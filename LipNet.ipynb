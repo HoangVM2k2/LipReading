{
 "cells": [
  {
   "cell_type": "markdown",
   "metadata": {},
   "source": [
    "# 0. Import Libraries"
   ]
  },
  {
   "cell_type": "code",
   "execution_count": 65,
   "metadata": {},
   "outputs": [],
   "source": [
    "import os\n",
    "import cv2\n",
    "import tensorflow as tf\n",
    "import numpy as np\n",
    "from typing import List\n",
    "from matplotlib import pyplot as plt \n",
    "import imageio"
   ]
  },
  {
   "cell_type": "markdown",
   "metadata": {},
   "source": [
    "# 1. Build Data Loading Functions"
   ]
  },
  {
   "cell_type": "code",
   "execution_count": 66,
   "metadata": {},
   "outputs": [],
   "source": [
    "import gdown"
   ]
  },
  {
   "cell_type": "code",
   "execution_count": 67,
   "metadata": {},
   "outputs": [],
   "source": [
    "# url = 'https://drive.google.com/uc?id=1YlvpDLix3S-U8fd-gqRwPcWXAXm8JwjL'\n",
    "# output = 'data.zip'\n",
    "# gdown.download(url, output, quiet=False)\n",
    "# gdown.extractall('data.zip')"
   ]
  },
  {
   "cell_type": "code",
   "execution_count": 68,
   "metadata": {},
   "outputs": [],
   "source": [
    "def load_video(path:str) -> List[float]: \n",
    "\n",
    "    cap = cv2.VideoCapture(path)\n",
    "    frames = []\n",
    "    for _ in range(int(cap.get(cv2.CAP_PROP_FRAME_COUNT))): \n",
    "        ret, frame = cap.read()\n",
    "        frame = tf.image.rgb_to_grayscale(frame)\n",
    "        frames.append(frame[190:236,80:220,:])\n",
    "    cap.release()\n",
    "    \n",
    "    mean = tf.math.reduce_mean(frames)\n",
    "    std = tf.math.reduce_std(tf.cast(frames, tf.float32))\n",
    "    return tf.cast((frames - mean), tf.float32) / std"
   ]
  },
  {
   "cell_type": "code",
   "execution_count": 69,
   "metadata": {},
   "outputs": [],
   "source": [
    "vocab = [x for x in \"abcdefghijklmnopqrstuvwxyz'?!123456789 \"]\n"
   ]
  },
  {
   "cell_type": "code",
   "execution_count": 70,
   "metadata": {},
   "outputs": [
    {
     "data": {
      "text/plain": [
       "['a',\n",
       " 'b',\n",
       " 'c',\n",
       " 'd',\n",
       " 'e',\n",
       " 'f',\n",
       " 'g',\n",
       " 'h',\n",
       " 'i',\n",
       " 'j',\n",
       " 'k',\n",
       " 'l',\n",
       " 'm',\n",
       " 'n',\n",
       " 'o',\n",
       " 'p',\n",
       " 'q',\n",
       " 'r',\n",
       " 's',\n",
       " 't',\n",
       " 'u',\n",
       " 'v',\n",
       " 'w',\n",
       " 'x',\n",
       " 'y',\n",
       " 'z',\n",
       " \"'\",\n",
       " '?',\n",
       " '!',\n",
       " '1',\n",
       " '2',\n",
       " '3',\n",
       " '4',\n",
       " '5',\n",
       " '6',\n",
       " '7',\n",
       " '8',\n",
       " '9',\n",
       " ' ']"
      ]
     },
     "execution_count": 70,
     "metadata": {},
     "output_type": "execute_result"
    }
   ],
   "source": [
    "vocab"
   ]
  },
  {
   "cell_type": "code",
   "execution_count": 71,
   "metadata": {},
   "outputs": [
    {
     "name": "stdout",
     "output_type": "stream",
     "text": [
      "The vocabulary is: ['', 'a', 'b', 'c', 'd', 'e', 'f', 'g', 'h', 'i', 'j', 'k', 'l', 'm', 'n', 'o', 'p', 'q', 'r', 's', 't', 'u', 'v', 'w', 'x', 'y', 'z', \"'\", '?', '!', '1', '2', '3', '4', '5', '6', '7', '8', '9', ' '] (size =40)\n"
     ]
    }
   ],
   "source": [
    "char_to_num = tf.keras.layers.StringLookup(vocabulary=vocab, oov_token=\"\")\n",
    "num_to_char = tf.keras.layers.StringLookup(\n",
    "    vocabulary=char_to_num.get_vocabulary(), oov_token=\"\", invert=True\n",
    ")\n",
    "\n",
    "print(\n",
    "    f\"The vocabulary is: {char_to_num.get_vocabulary()} \"\n",
    "    f\"(size ={char_to_num.vocabulary_size()})\"\n",
    ")"
   ]
  },
  {
   "cell_type": "code",
   "execution_count": 72,
   "metadata": {},
   "outputs": [
    {
     "data": {
      "text/plain": [
       "['',\n",
       " 'a',\n",
       " 'b',\n",
       " 'c',\n",
       " 'd',\n",
       " 'e',\n",
       " 'f',\n",
       " 'g',\n",
       " 'h',\n",
       " 'i',\n",
       " 'j',\n",
       " 'k',\n",
       " 'l',\n",
       " 'm',\n",
       " 'n',\n",
       " 'o',\n",
       " 'p',\n",
       " 'q',\n",
       " 'r',\n",
       " 's',\n",
       " 't',\n",
       " 'u',\n",
       " 'v',\n",
       " 'w',\n",
       " 'x',\n",
       " 'y',\n",
       " 'z',\n",
       " \"'\",\n",
       " '?',\n",
       " '!',\n",
       " '1',\n",
       " '2',\n",
       " '3',\n",
       " '4',\n",
       " '5',\n",
       " '6',\n",
       " '7',\n",
       " '8',\n",
       " '9',\n",
       " ' ']"
      ]
     },
     "execution_count": 72,
     "metadata": {},
     "output_type": "execute_result"
    }
   ],
   "source": [
    "char_to_num.get_vocabulary()"
   ]
  },
  {
   "cell_type": "code",
   "execution_count": 73,
   "metadata": {},
   "outputs": [
    {
     "data": {
      "text/plain": [
       "<tf.Tensor: shape=(4,), dtype=int64, numpy=array([14,  9,  3, 11], dtype=int64)>"
      ]
     },
     "execution_count": 73,
     "metadata": {},
     "output_type": "execute_result"
    }
   ],
   "source": [
    "char_to_num(['n','i','c','k'])\n"
   ]
  },
  {
   "cell_type": "code",
   "execution_count": 74,
   "metadata": {},
   "outputs": [
    {
     "data": {
      "text/plain": [
       "<tf.Tensor: shape=(4,), dtype=string, numpy=array([b'n', b'i', b'c', b'k'], dtype=object)>"
      ]
     },
     "execution_count": 74,
     "metadata": {},
     "output_type": "execute_result"
    }
   ],
   "source": [
    "num_to_char([14,  9,  3, 11])\n"
   ]
  },
  {
   "cell_type": "code",
   "execution_count": 75,
   "metadata": {},
   "outputs": [],
   "source": [
    "def load_alignments(path:str) -> List[str]: \n",
    "    with open(path, 'r') as f: \n",
    "        lines = f.readlines() \n",
    "    tokens = []\n",
    "    for line in lines:\n",
    "        line = line.split()\n",
    "        if line[2] != 'sil': \n",
    "            tokens = [*tokens,' ',line[2]]\n",
    "    return char_to_num(tf.reshape(tf.strings.unicode_split(tokens, input_encoding='UTF-8'), (-1)))[1:]"
   ]
  },
  {
   "cell_type": "code",
   "execution_count": 76,
   "metadata": {},
   "outputs": [],
   "source": [
    "def load_data(path: str): \n",
    "    path = bytes.decode(path.numpy())\n",
    "    #file_name = path.split('/')[-1].split('.')[0]\n",
    "    # File name splitting for windows\n",
    "    file_name = path.split('\\\\')[-1].split('.')[0]\n",
    "    video_path = os.path.join('data','s1',f'{file_name}.mpg')\n",
    "    alignment_path = os.path.join('data','alignments','s1',f'{file_name}.align')\n",
    "    frames = load_video(video_path) \n",
    "    alignments = load_alignments(alignment_path)\n",
    "    \n",
    "    return frames, alignments"
   ]
  },
  {
   "cell_type": "code",
   "execution_count": 77,
   "metadata": {},
   "outputs": [],
   "source": [
    "test_path = '.\\\\data\\\\s1\\\\bbal6n.mpg'"
   ]
  },
  {
   "cell_type": "code",
   "execution_count": 78,
   "metadata": {},
   "outputs": [
    {
     "data": {
      "text/plain": [
       "'bbal6n'"
      ]
     },
     "execution_count": 78,
     "metadata": {},
     "output_type": "execute_result"
    }
   ],
   "source": [
    "tf.convert_to_tensor(test_path).numpy().decode('utf-8').split('\\\\')[-1].split('.')[0]\n"
   ]
  },
  {
   "cell_type": "code",
   "execution_count": 79,
   "metadata": {},
   "outputs": [],
   "source": [
    "frames, alignments = load_data(tf.convert_to_tensor(test_path))\n"
   ]
  },
  {
   "cell_type": "code",
   "execution_count": 80,
   "metadata": {},
   "outputs": [
    {
     "data": {
      "text/plain": [
       "<matplotlib.image.AxesImage at 0x1a5c9148510>"
      ]
     },
     "execution_count": 80,
     "metadata": {},
     "output_type": "execute_result"
    },
    {
     "data": {
      "image/png": "[encoded data removed]",
      "text/plain": [
       "<Figure size 640x480 with 1 Axes>"
      ]
     },
     "metadata": {},
     "output_type": "display_data"
    }
   ],
   "source": [
    "plt.imshow(frames[40])\n"
   ]
  },
  {
   "cell_type": "code",
   "execution_count": 81,
   "metadata": {},
   "outputs": [
    {
     "data": {
      "text/plain": [
       "<tf.Tensor: shape=(21,), dtype=int64, numpy=\n",
       "array([ 2,  9, 14, 39,  2, 12, 21,  5, 39,  1, 20, 39, 12, 39, 19,  9, 24,\n",
       "       39, 14, 15, 23], dtype=int64)>"
      ]
     },
     "execution_count": 81,
     "metadata": {},
     "output_type": "execute_result"
    }
   ],
   "source": [
    "alignments\n"
   ]
  },
  {
   "cell_type": "code",
   "execution_count": 82,
   "metadata": {},
   "outputs": [
    {
     "data": {
      "text/plain": [
       "<tf.Tensor: shape=(), dtype=string, numpy=b'bin blue at l six now'>"
      ]
     },
     "execution_count": 82,
     "metadata": {},
     "output_type": "execute_result"
    }
   ],
   "source": [
    "tf.strings.reduce_join([bytes.decode(x) for x in num_to_char(alignments.numpy()).numpy()])\n"
   ]
  },
  {
   "cell_type": "code",
   "execution_count": 83,
   "metadata": {},
   "outputs": [],
   "source": [
    "def mappable_function(path:str) ->List[str]:\n",
    "    result = tf.py_function(load_data, [path], (tf.float32, tf.int64))\n",
    "    return result"
   ]
  },
  {
   "cell_type": "markdown",
   "metadata": {},
   "source": [
    "# 2. Data"
   ]
  },
  {
   "cell_type": "code",
   "execution_count": 84,
   "metadata": {},
   "outputs": [],
   "source": [
    "data = tf.data.Dataset.list_files('./data/s1/*.mpg')\n",
    "data = data.shuffle(500, reshuffle_each_iteration=False)\n",
    "data = data.map(mappable_function)\n",
    "data = data.padded_batch(2, padded_shapes=([75,None,None,None],[40]))\n",
    "data = data.prefetch(tf.data.AUTOTUNE)\n",
    "# Added for split \n",
    "train = data.take(450)\n",
    "test = data.skip(450)"
   ]
  },
  {
   "cell_type": "code",
   "execution_count": 85,
   "metadata": {},
   "outputs": [
    {
     "data": {
      "text/plain": [
       "<_PrefetchDataset element_spec=(TensorSpec(shape=(None, 75, None, None, None), dtype=tf.float32, name=None), TensorSpec(shape=(None, 40), dtype=tf.int64, name=None))>"
      ]
     },
     "execution_count": 85,
     "metadata": {},
     "output_type": "execute_result"
    }
   ],
   "source": [
    "data"
   ]
  },
  {
   "cell_type": "code",
   "execution_count": 86,
   "metadata": {},
   "outputs": [
    {
     "data": {
      "text/plain": [
       "50"
      ]
     },
     "execution_count": 86,
     "metadata": {},
     "output_type": "execute_result"
    }
   ],
   "source": [
    "len(test)\n"
   ]
  },
  {
   "cell_type": "code",
   "execution_count": 87,
   "metadata": {},
   "outputs": [],
   "source": [
    "frames, alignments = data.as_numpy_iterator().next()\n"
   ]
  },
  {
   "cell_type": "code",
   "execution_count": 88,
   "metadata": {},
   "outputs": [
    {
     "data": {
      "text/plain": [
       "2"
      ]
     },
     "execution_count": 88,
     "metadata": {},
     "output_type": "execute_result"
    }
   ],
   "source": [
    "len(frames)\n"
   ]
  },
  {
   "cell_type": "code",
   "execution_count": 89,
   "metadata": {},
   "outputs": [],
   "source": [
    "sample = data.as_numpy_iterator()\n"
   ]
  },
  {
   "cell_type": "code",
   "execution_count": 90,
   "metadata": {},
   "outputs": [
    {
     "data": {
      "text/plain": [
       "array([[[[[1.4316921 ],\n",
       "          [1.358272  ],\n",
       "          [1.4316921 ],\n",
       "          ...,\n",
       "          [0.29368043],\n",
       "          [0.22026032],\n",
       "          [0.22026032]],\n",
       "\n",
       "         [[1.358272  ],\n",
       "          [1.2114317 ],\n",
       "          [1.4316921 ],\n",
       "          ...,\n",
       "          [0.29368043],\n",
       "          [0.22026032],\n",
       "          [0.22026032]],\n",
       "\n",
       "         [[1.4684021 ],\n",
       "          [1.4684021 ],\n",
       "          [1.4316921 ],\n",
       "          ...,\n",
       "          [0.29368043],\n",
       "          [0.25697038],\n",
       "          [0.25697038]],\n",
       "\n",
       "         ...,\n",
       "\n",
       "         [[0.9911715 ],\n",
       "          [0.9911715 ],\n",
       "          [0.9911715 ],\n",
       "          ...,\n",
       "          [0.14684021],\n",
       "          [0.11013016],\n",
       "          [0.07342011]],\n",
       "\n",
       "         [[0.9544614 ],\n",
       "          [0.9544614 ],\n",
       "          [0.9544614 ],\n",
       "          ...,\n",
       "          [9.361064  ],\n",
       "          [9.361064  ],\n",
       "          [0.03671005]],\n",
       "\n",
       "         [[0.9544614 ],\n",
       "          [0.9544614 ],\n",
       "          [0.9544614 ],\n",
       "          ...,\n",
       "          [0.07342011],\n",
       "          [0.07342011],\n",
       "          [0.03671005]]],\n",
       "\n",
       "\n",
       "        [[[1.358272  ],\n",
       "          [1.5051122 ],\n",
       "          [1.3949821 ],\n",
       "          ...,\n",
       "          [0.33039048],\n",
       "          [0.25697038],\n",
       "          [0.25697038]],\n",
       "\n",
       "         [[1.5418223 ],\n",
       "          [1.358272  ],\n",
       "          [1.4316921 ],\n",
       "          ...,\n",
       "          [0.33039048],\n",
       "          [0.25697038],\n",
       "          [0.25697038]],\n",
       "\n",
       "         [[1.3949821 ],\n",
       "          [1.3949821 ],\n",
       "          [1.358272  ],\n",
       "          ...,\n",
       "          [0.22026032],\n",
       "          [0.22026032],\n",
       "          [0.18355027]],\n",
       "\n",
       "         ...,\n",
       "\n",
       "         [[1.0278815 ],\n",
       "          [1.0278815 ],\n",
       "          [1.0278815 ],\n",
       "          ...,\n",
       "          [0.07342011],\n",
       "          [0.03671005],\n",
       "          [0.        ]],\n",
       "\n",
       "         [[0.9911715 ],\n",
       "          [0.9911715 ],\n",
       "          [0.9911715 ],\n",
       "          ...,\n",
       "          [9.361064  ],\n",
       "          [9.361064  ],\n",
       "          [0.03671005]],\n",
       "\n",
       "         [[0.9911715 ],\n",
       "          [0.9911715 ],\n",
       "          [0.9911715 ],\n",
       "          ...,\n",
       "          [0.03671005],\n",
       "          [9.361064  ],\n",
       "          [9.324354  ]]],\n",
       "\n",
       "\n",
       "        [[[1.4316921 ],\n",
       "          [1.5051122 ],\n",
       "          [1.358272  ],\n",
       "          ...,\n",
       "          [0.36710054],\n",
       "          [0.25697038],\n",
       "          [0.25697038]],\n",
       "\n",
       "         [[1.5418223 ],\n",
       "          [1.2848519 ],\n",
       "          [1.4316921 ],\n",
       "          ...,\n",
       "          [0.36710054],\n",
       "          [0.25697038],\n",
       "          [0.25697038]],\n",
       "\n",
       "         [[1.4316921 ],\n",
       "          [1.4316921 ],\n",
       "          [1.358272  ],\n",
       "          ...,\n",
       "          [0.33039048],\n",
       "          [0.29368043],\n",
       "          [0.22026032]],\n",
       "\n",
       "         ...,\n",
       "\n",
       "         [[1.0278815 ],\n",
       "          [1.0278815 ],\n",
       "          [1.0278815 ],\n",
       "          ...,\n",
       "          [0.        ],\n",
       "          [0.        ],\n",
       "          [0.        ]],\n",
       "\n",
       "         [[0.9911715 ],\n",
       "          [0.9911715 ],\n",
       "          [0.9911715 ],\n",
       "          ...,\n",
       "          [0.        ],\n",
       "          [0.        ],\n",
       "          [0.        ]],\n",
       "\n",
       "         [[0.9911715 ],\n",
       "          [0.9911715 ],\n",
       "          [0.9911715 ],\n",
       "          ...,\n",
       "          [0.        ],\n",
       "          [9.324354  ],\n",
       "          [9.287643  ]]],\n",
       "\n",
       "\n",
       "        ...,\n",
       "\n",
       "\n",
       "        [[[1.358272  ],\n",
       "          [1.3949821 ],\n",
       "          [1.3949821 ],\n",
       "          ...,\n",
       "          [0.33039048],\n",
       "          [0.33039048],\n",
       "          [0.25697038]],\n",
       "\n",
       "         [[1.3215619 ],\n",
       "          [1.358272  ],\n",
       "          [1.3949821 ],\n",
       "          ...,\n",
       "          [0.33039048],\n",
       "          [0.33039048],\n",
       "          [0.25697038]],\n",
       "\n",
       "         [[1.4316921 ],\n",
       "          [1.4316921 ],\n",
       "          [1.4316921 ],\n",
       "          ...,\n",
       "          [0.36710054],\n",
       "          [0.25697038],\n",
       "          [0.25697038]],\n",
       "\n",
       "         ...,\n",
       "\n",
       "         [[1.0645915 ],\n",
       "          [1.0278815 ],\n",
       "          [1.0278815 ],\n",
       "          ...,\n",
       "          [0.03671005],\n",
       "          [0.        ],\n",
       "          [0.        ]],\n",
       "\n",
       "         [[1.0278815 ],\n",
       "          [1.0278815 ],\n",
       "          [1.0278815 ],\n",
       "          ...,\n",
       "          [9.361064  ],\n",
       "          [9.361064  ],\n",
       "          [9.324354  ]],\n",
       "\n",
       "         [[1.0278815 ],\n",
       "          [1.0278815 ],\n",
       "          [1.0278815 ],\n",
       "          ...,\n",
       "          [9.287643  ],\n",
       "          [9.287643  ],\n",
       "          [9.287643  ]]],\n",
       "\n",
       "\n",
       "        [[[1.5051122 ],\n",
       "          [1.5418223 ],\n",
       "          [1.358272  ],\n",
       "          ...,\n",
       "          [0.36710054],\n",
       "          [0.36710054],\n",
       "          [0.29368043]],\n",
       "\n",
       "         [[1.5418223 ],\n",
       "          [1.358272  ],\n",
       "          [1.5051122 ],\n",
       "          ...,\n",
       "          [0.36710054],\n",
       "          [0.36710054],\n",
       "          [0.29368043]],\n",
       "\n",
       "         [[1.3949821 ],\n",
       "          [1.3949821 ],\n",
       "          [1.4316921 ],\n",
       "          ...,\n",
       "          [0.36710054],\n",
       "          [0.25697038],\n",
       "          [0.25697038]],\n",
       "\n",
       "         ...,\n",
       "\n",
       "         [[1.0645915 ],\n",
       "          [1.0278815 ],\n",
       "          [1.0278815 ],\n",
       "          ...,\n",
       "          [0.07342011],\n",
       "          [0.03671005],\n",
       "          [0.        ]],\n",
       "\n",
       "         [[1.0278815 ],\n",
       "          [1.0278815 ],\n",
       "          [1.0278815 ],\n",
       "          ...,\n",
       "          [9.361064  ],\n",
       "          [0.03671005],\n",
       "          [9.361064  ]],\n",
       "\n",
       "         [[1.0278815 ],\n",
       "          [1.0278815 ],\n",
       "          [1.0278815 ],\n",
       "          ...,\n",
       "          [9.324354  ],\n",
       "          [9.324354  ],\n",
       "          [9.324354  ]]],\n",
       "\n",
       "\n",
       "        [[[1.5418223 ],\n",
       "          [1.5418223 ],\n",
       "          [1.358272  ],\n",
       "          ...,\n",
       "          [0.36710054],\n",
       "          [0.33039048],\n",
       "          [0.25697038]],\n",
       "\n",
       "         [[1.5785323 ],\n",
       "          [1.358272  ],\n",
       "          [1.5051122 ],\n",
       "          ...,\n",
       "          [0.36710054],\n",
       "          [0.33039048],\n",
       "          [0.25697038]],\n",
       "\n",
       "         [[1.358272  ],\n",
       "          [1.358272  ],\n",
       "          [1.3949821 ],\n",
       "          ...,\n",
       "          [0.22026032],\n",
       "          [0.22026032],\n",
       "          [0.22026032]],\n",
       "\n",
       "         ...,\n",
       "\n",
       "         [[1.0278815 ],\n",
       "          [0.9911715 ],\n",
       "          [0.9911715 ],\n",
       "          ...,\n",
       "          [0.03671005],\n",
       "          [0.03671005],\n",
       "          [0.        ]],\n",
       "\n",
       "         [[1.0278815 ],\n",
       "          [1.0278815 ],\n",
       "          [1.0278815 ],\n",
       "          ...,\n",
       "          [0.        ],\n",
       "          [0.        ],\n",
       "          [9.324354  ]],\n",
       "\n",
       "         [[1.0278815 ],\n",
       "          [1.0278815 ],\n",
       "          [1.0278815 ],\n",
       "          ...,\n",
       "          [9.287643  ],\n",
       "          [9.287643  ],\n",
       "          [9.287643  ]]]],\n",
       "\n",
       "\n",
       "\n",
       "       [[[[1.4703742 ],\n",
       "          [1.4345114 ],\n",
       "          [1.3986486 ],\n",
       "          ...,\n",
       "          [0.32276508],\n",
       "          [0.32276508],\n",
       "          [0.32276508]],\n",
       "\n",
       "         [[1.506237  ],\n",
       "          [1.4703742 ],\n",
       "          [1.3986486 ],\n",
       "          ...,\n",
       "          [0.32276508],\n",
       "          [0.32276508],\n",
       "          [0.32276508]],\n",
       "\n",
       "         [[1.506237  ],\n",
       "          [1.506237  ],\n",
       "          [1.3627858 ],\n",
       "          ...,\n",
       "          [0.43035343],\n",
       "          [0.35862786],\n",
       "          [0.35862786]],\n",
       "\n",
       "         ...,\n",
       "\n",
       "         [[1.0400208 ],\n",
       "          [1.0400208 ],\n",
       "          [1.0400208 ],\n",
       "          ...,\n",
       "          [0.10758836],\n",
       "          [0.10758836],\n",
       "          [0.10758836]],\n",
       "\n",
       "         [[1.004158  ],\n",
       "          [1.004158  ],\n",
       "          [1.004158  ],\n",
       "          ...,\n",
       "          [0.10758836],\n",
       "          [0.10758836],\n",
       "          [0.10758836]],\n",
       "\n",
       "         [[1.004158  ],\n",
       "          [1.004158  ],\n",
       "          [1.004158  ],\n",
       "          ...,\n",
       "          [0.10758836],\n",
       "          [0.10758836],\n",
       "          [0.07172557]]],\n",
       "\n",
       "\n",
       "        [[[1.506237  ],\n",
       "          [1.3627858 ],\n",
       "          [1.3986486 ],\n",
       "          ...,\n",
       "          [0.32276508],\n",
       "          [0.28690228],\n",
       "          [0.28690228]],\n",
       "\n",
       "         [[1.4703742 ],\n",
       "          [1.3269231 ],\n",
       "          [1.3986486 ],\n",
       "          ...,\n",
       "          [0.32276508],\n",
       "          [0.28690228],\n",
       "          [0.28690228]],\n",
       "\n",
       "         [[1.4703742 ],\n",
       "          [1.4703742 ],\n",
       "          [1.3627858 ],\n",
       "          ...,\n",
       "          [0.43035343],\n",
       "          [0.35862786],\n",
       "          [0.35862786]],\n",
       "\n",
       "         ...,\n",
       "\n",
       "         [[1.0758836 ],\n",
       "          [1.0400208 ],\n",
       "          [1.0400208 ],\n",
       "          ...,\n",
       "          [0.10758836],\n",
       "          [0.07172557],\n",
       "          [0.07172557]],\n",
       "\n",
       "         [[1.0400208 ],\n",
       "          [1.0400208 ],\n",
       "          [1.0400208 ],\n",
       "          ...,\n",
       "          [0.07172557],\n",
       "          [0.07172557],\n",
       "          [0.03586278]],\n",
       "\n",
       "         [[1.0400208 ],\n",
       "          [1.0400208 ],\n",
       "          [1.0400208 ],\n",
       "          ...,\n",
       "          [0.07172557],\n",
       "          [0.03586278],\n",
       "          [0.03586278]]],\n",
       "\n",
       "\n",
       "        [[[1.5779625 ],\n",
       "          [1.4345114 ],\n",
       "          [1.4703742 ],\n",
       "          ...,\n",
       "          [0.39449063],\n",
       "          [0.35862786],\n",
       "          [0.35862786]],\n",
       "\n",
       "         [[1.5420998 ],\n",
       "          [1.3986486 ],\n",
       "          [1.4703742 ],\n",
       "          ...,\n",
       "          [0.39449063],\n",
       "          [0.35862786],\n",
       "          [0.35862786]],\n",
       "\n",
       "         [[1.4345114 ],\n",
       "          [1.4345114 ],\n",
       "          [1.3627858 ],\n",
       "          ...,\n",
       "          [0.39449063],\n",
       "          [0.28690228],\n",
       "          [0.28690228]],\n",
       "\n",
       "         ...,\n",
       "\n",
       "         [[1.004158  ],\n",
       "          [0.9682952 ],\n",
       "          [0.9682952 ],\n",
       "          ...,\n",
       "          [0.17931393],\n",
       "          [0.10758836],\n",
       "          [0.10758836]],\n",
       "\n",
       "         [[1.004158  ],\n",
       "          [1.004158  ],\n",
       "          [1.004158  ],\n",
       "          ...,\n",
       "          [0.14345114],\n",
       "          [0.10758836],\n",
       "          [0.07172557]],\n",
       "\n",
       "         [[1.004158  ],\n",
       "          [1.004158  ],\n",
       "          [1.004158  ],\n",
       "          ...,\n",
       "          [0.14345114],\n",
       "          [0.07172557],\n",
       "          [0.07172557]]],\n",
       "\n",
       "\n",
       "        ...,\n",
       "\n",
       "\n",
       "        [[[1.3986486 ],\n",
       "          [1.4703742 ],\n",
       "          [1.506237  ],\n",
       "          ...,\n",
       "          [0.39449063],\n",
       "          [0.32276508],\n",
       "          [0.32276508]],\n",
       "\n",
       "         [[1.3986486 ],\n",
       "          [1.4703742 ],\n",
       "          [1.506237  ],\n",
       "          ...,\n",
       "          [0.39449063],\n",
       "          [0.32276508],\n",
       "          [0.32276508]],\n",
       "\n",
       "         [[1.3986486 ],\n",
       "          [1.3986486 ],\n",
       "          [1.3986486 ],\n",
       "          ...,\n",
       "          [0.2510395 ],\n",
       "          [0.2510395 ],\n",
       "          [0.2510395 ]],\n",
       "\n",
       "         ...,\n",
       "\n",
       "         [[1.0400208 ],\n",
       "          [1.0400208 ],\n",
       "          [1.0400208 ],\n",
       "          ...,\n",
       "          [0.21517672],\n",
       "          [0.17931393],\n",
       "          [0.14345114]],\n",
       "\n",
       "         [[1.0400208 ],\n",
       "          [1.0400208 ],\n",
       "          [1.0400208 ],\n",
       "          ...,\n",
       "          [0.17931393],\n",
       "          [0.17931393],\n",
       "          [0.14345114]],\n",
       "\n",
       "         [[1.0400208 ],\n",
       "          [1.0400208 ],\n",
       "          [1.004158  ],\n",
       "          ...,\n",
       "          [0.14345114],\n",
       "          [0.14345114],\n",
       "          [0.10758836]]],\n",
       "\n",
       "\n",
       "        [[[1.4345114 ],\n",
       "          [1.4345114 ],\n",
       "          [1.4345114 ],\n",
       "          ...,\n",
       "          [0.32276508],\n",
       "          [0.2510395 ],\n",
       "          [0.2510395 ]],\n",
       "\n",
       "         [[1.3986486 ],\n",
       "          [1.5420998 ],\n",
       "          [1.506237  ],\n",
       "          ...,\n",
       "          [0.32276508],\n",
       "          [0.2510395 ],\n",
       "          [0.2510395 ]],\n",
       "\n",
       "         [[1.4345114 ],\n",
       "          [1.4345114 ],\n",
       "          [1.3986486 ],\n",
       "          ...,\n",
       "          [0.32276508],\n",
       "          [0.35862786],\n",
       "          [0.28690228]],\n",
       "\n",
       "         ...,\n",
       "\n",
       "         [[1.0400208 ],\n",
       "          [1.0400208 ],\n",
       "          [1.0400208 ],\n",
       "          ...,\n",
       "          [0.17931393],\n",
       "          [0.14345114],\n",
       "          [0.10758836]],\n",
       "\n",
       "         [[1.0400208 ],\n",
       "          [1.0400208 ],\n",
       "          [1.0400208 ],\n",
       "          ...,\n",
       "          [0.14345114],\n",
       "          [0.14345114],\n",
       "          [0.10758836]],\n",
       "\n",
       "         [[1.0400208 ],\n",
       "          [1.0400208 ],\n",
       "          [1.004158  ],\n",
       "          ...,\n",
       "          [0.10758836],\n",
       "          [0.10758836],\n",
       "          [0.07172557]]],\n",
       "\n",
       "\n",
       "        [[[1.4345114 ],\n",
       "          [1.4345114 ],\n",
       "          [1.3986486 ],\n",
       "          ...,\n",
       "          [0.39449063],\n",
       "          [0.35862786],\n",
       "          [0.35862786]],\n",
       "\n",
       "         [[1.3986486 ],\n",
       "          [1.4703742 ],\n",
       "          [1.506237  ],\n",
       "          ...,\n",
       "          [0.39449063],\n",
       "          [0.35862786],\n",
       "          [0.35862786]],\n",
       "\n",
       "         [[1.4345114 ],\n",
       "          [1.4345114 ],\n",
       "          [1.3986486 ],\n",
       "          ...,\n",
       "          [0.35862786],\n",
       "          [0.35862786],\n",
       "          [0.35862786]],\n",
       "\n",
       "         ...,\n",
       "\n",
       "         [[1.0400208 ],\n",
       "          [1.0400208 ],\n",
       "          [1.0400208 ],\n",
       "          ...,\n",
       "          [0.21517672],\n",
       "          [0.17931393],\n",
       "          [0.14345114]],\n",
       "\n",
       "         [[1.0400208 ],\n",
       "          [1.0400208 ],\n",
       "          [1.0400208 ],\n",
       "          ...,\n",
       "          [0.17931393],\n",
       "          [0.17931393],\n",
       "          [0.14345114]],\n",
       "\n",
       "         [[1.0400208 ],\n",
       "          [1.0400208 ],\n",
       "          [1.004158  ],\n",
       "          ...,\n",
       "          [0.14345114],\n",
       "          [0.14345114],\n",
       "          [0.10758836]]]]], dtype=float32)"
      ]
     },
     "execution_count": 90,
     "metadata": {},
     "output_type": "execute_result"
    }
   ],
   "source": [
    "val = sample.next(); val[0]\n"
   ]
  },
  {
   "cell_type": "code",
   "execution_count": 91,
   "metadata": {},
   "outputs": [],
   "source": [
    "# imageio.mimsave('./animation.gif', val[0][1], fps=10)"
   ]
  },
  {
   "cell_type": "code",
   "execution_count": 92,
   "metadata": {},
   "outputs": [
    {
     "data": {
      "text/plain": [
       "<matplotlib.image.AxesImage at 0x1a5c9158510>"
      ]
     },
     "execution_count": 92,
     "metadata": {},
     "output_type": "execute_result"
    },
    {
     "data": {
      "image/png": "[encoded data removed]",
      "text/plain": [
       "<Figure size 640x480 with 1 Axes>"
      ]
     },
     "metadata": {},
     "output_type": "display_data"
    }
   ],
   "source": [
    "# 0:videos, 0: 1st video out of the batch,  0: return the first frame in the video \n",
    "plt.imshow(val[0][0][35])\n"
   ]
  },
  {
   "cell_type": "code",
   "execution_count": 93,
   "metadata": {},
   "outputs": [
    {
     "data": {
      "text/plain": [
       "<tf.Tensor: shape=(), dtype=string, numpy=b'place blue at v two now'>"
      ]
     },
     "execution_count": 93,
     "metadata": {},
     "output_type": "execute_result"
    }
   ],
   "source": [
    "tf.strings.reduce_join([num_to_char(word) for word in val[1][0]])\n"
   ]
  },
  {
   "cell_type": "markdown",
   "metadata": {},
   "source": [
    "# 3. Deep Neural Network"
   ]
  },
  {
   "cell_type": "code",
   "execution_count": 94,
   "metadata": {},
   "outputs": [],
   "source": [
    "from tensorflow.keras.models import Sequential \n",
    "from tensorflow.keras.layers import Conv3D, LSTM, Dense, Dropout, Bidirectional, MaxPool3D, Activation, Reshape, SpatialDropout3D, BatchNormalization, TimeDistributed, Flatten\n",
    "from tensorflow.keras.optimizers import Adam\n",
    "from tensorflow.keras.callbacks import ModelCheckpoint, LearningRateScheduler"
   ]
  },
  {
   "cell_type": "code",
   "execution_count": 95,
   "metadata": {},
   "outputs": [
    {
     "data": {
      "text/plain": [
       "(75, 46, 140, 1)"
      ]
     },
     "execution_count": 95,
     "metadata": {},
     "output_type": "execute_result"
    }
   ],
   "source": [
    "data.as_numpy_iterator().next()[0][0].shape\n"
   ]
  },
  {
   "cell_type": "code",
   "execution_count": 96,
   "metadata": {},
   "outputs": [],
   "source": [
    "model = Sequential()\n",
    "model.add(Conv3D(128, 3, input_shape=(75,46,140,1), padding='same'))\n",
    "model.add(Activation('relu'))\n",
    "model.add(MaxPool3D((1,2,2)))\n",
    "\n",
    "model.add(Conv3D(256, 3, padding='same'))\n",
    "model.add(Activation('relu'))\n",
    "model.add(MaxPool3D((1,2,2)))\n",
    "\n",
    "model.add(Conv3D(75, 3, padding='same'))\n",
    "model.add(Activation('relu'))\n",
    "model.add(MaxPool3D((1,2,2)))\n",
    "\n",
    "model.add(TimeDistributed(Flatten()))\n",
    "\n",
    "model.add(Bidirectional(LSTM(128, kernel_initializer='Orthogonal', return_sequences=True)))\n",
    "model.add(Dropout(.5))\n",
    "\n",
    "model.add(Bidirectional(LSTM(128, kernel_initializer='Orthogonal', return_sequences=True)))\n",
    "model.add(Dropout(.5))\n",
    "\n",
    "model.add(Dense(char_to_num.vocabulary_size()+1, kernel_initializer='he_normal', activation='softmax'))"
   ]
  },
  {
   "cell_type": "code",
   "execution_count": 97,
   "metadata": {},
   "outputs": [
    {
     "name": "stdout",
     "output_type": "stream",
     "text": [
      "Model: \"sequential_1\"\n",
      "_________________________________________________________________\n",
      " Layer (type)                Output Shape              Param #   \n",
      "=================================================================\n",
      " conv3d_3 (Conv3D)           (None, 75, 46, 140, 128   3584      \n",
      "                             )                                   \n",
      "                                                                 \n",
      " activation_3 (Activation)   (None, 75, 46, 140, 128   0         \n",
      "                             )                                   \n",
      "                                                                 \n",
      " max_pooling3d_3 (MaxPoolin  (None, 75, 23, 70, 128)   0         \n",
      " g3D)                                                            \n",
      "                                                                 \n",
      " conv3d_4 (Conv3D)           (None, 75, 23, 70, 256)   884992    \n",
      "                                                                 \n",
      " activation_4 (Activation)   (None, 75, 23, 70, 256)   0         \n",
      "                                                                 \n",
      " max_pooling3d_4 (MaxPoolin  (None, 75, 11, 35, 256)   0         \n",
      " g3D)                                                            \n",
      "                                                                 \n",
      " conv3d_5 (Conv3D)           (None, 75, 11, 35, 75)    518475    \n",
      "                                                                 \n",
      " activation_5 (Activation)   (None, 75, 11, 35, 75)    0         \n",
      "                                                                 \n",
      " max_pooling3d_5 (MaxPoolin  (None, 75, 5, 17, 75)     0         \n",
      " g3D)                                                            \n",
      "                                                                 \n",
      " time_distributed_1 (TimeDi  (None, 75, 6375)          0         \n",
      " stributed)                                                      \n",
      "                                                                 \n",
      " bidirectional_2 (Bidirecti  (None, 75, 256)           6660096   \n",
      " onal)                                                           \n",
      "                                                                 \n",
      " dropout_2 (Dropout)         (None, 75, 256)           0         \n",
      "                                                                 \n",
      " bidirectional_3 (Bidirecti  (None, 75, 256)           394240    \n",
      " onal)                                                           \n",
      "                                                                 \n",
      " dropout_3 (Dropout)         (None, 75, 256)           0         \n",
      "                                                                 \n",
      " dense_1 (Dense)             (None, 75, 41)            10537     \n",
      "                                                                 \n",
      "=================================================================\n",
      "Total params: 8471924 (32.32 MB)\n",
      "Trainable params: 8471924 (32.32 MB)\n",
      "Non-trainable params: 0 (0.00 Byte)\n",
      "_________________________________________________________________\n"
     ]
    }
   ],
   "source": [
    "model.summary()"
   ]
  },
  {
   "cell_type": "code",
   "execution_count": 98,
   "metadata": {},
   "outputs": [
    {
     "name": "stdout",
     "output_type": "stream",
     "text": [
      "1/1 [==============================] - 7s 7s/step\n"
     ]
    }
   ],
   "source": [
    "yhat = model.predict(val[0])\n"
   ]
  },
  {
   "cell_type": "code",
   "execution_count": 99,
   "metadata": {},
   "outputs": [
    {
     "data": {
      "text/plain": [
       "<tf.Tensor: shape=(), dtype=string, numpy=b'3hh'>"
      ]
     },
     "execution_count": 99,
     "metadata": {},
     "output_type": "execute_result"
    }
   ],
   "source": [
    "tf.strings.reduce_join([num_to_char(x) for x in tf.argmax(yhat[0],axis=1)])\n"
   ]
  },
  {
   "cell_type": "code",
   "execution_count": 100,
   "metadata": {},
   "outputs": [
    {
     "data": {
      "text/plain": [
       "<tf.Tensor: shape=(), dtype=string, numpy=b'3hh'>"
      ]
     },
     "execution_count": 100,
     "metadata": {},
     "output_type": "execute_result"
    }
   ],
   "source": [
    "tf.strings.reduce_join([num_to_char(tf.argmax(x)) for x in yhat[0]])\n"
   ]
  },
  {
   "cell_type": "code",
   "execution_count": 101,
   "metadata": {},
   "outputs": [
    {
     "data": {
      "text/plain": [
       "(None, 75, 46, 140, 1)"
      ]
     },
     "execution_count": 101,
     "metadata": {},
     "output_type": "execute_result"
    }
   ],
   "source": [
    "model.input_shape\n"
   ]
  },
  {
   "cell_type": "code",
   "execution_count": 102,
   "metadata": {},
   "outputs": [
    {
     "data": {
      "text/plain": [
       "(None, 75, 41)"
      ]
     },
     "execution_count": 102,
     "metadata": {},
     "output_type": "execute_result"
    }
   ],
   "source": [
    "model.output_shape\n"
   ]
  },
  {
   "cell_type": "markdown",
   "metadata": {},
   "source": [
    "# 4. Setup Training Options and Train"
   ]
  },
  {
   "cell_type": "code",
   "execution_count": 103,
   "metadata": {},
   "outputs": [],
   "source": [
    "def scheduler(epoch, lr):\n",
    "    if epoch < 30:\n",
    "        return lr\n",
    "    else:\n",
    "        return lr * tf.math.exp(-0.1)"
   ]
  },
  {
   "cell_type": "code",
   "execution_count": 104,
   "metadata": {},
   "outputs": [],
   "source": [
    "def CTCLoss(y_true, y_pred):\n",
    "    batch_len = tf.cast(tf.shape(y_true)[0], dtype=\"int64\")\n",
    "    input_length = tf.cast(tf.shape(y_pred)[1], dtype=\"int64\")\n",
    "    label_length = tf.cast(tf.shape(y_true)[1], dtype=\"int64\")\n",
    "\n",
    "    input_length = input_length * tf.ones(shape=(batch_len, 1), dtype=\"int64\")\n",
    "    label_length = label_length * tf.ones(shape=(batch_len, 1), dtype=\"int64\")\n",
    "\n",
    "    loss = tf.keras.backend.ctc_batch_cost(y_true, y_pred, input_length, label_length)\n",
    "    return loss"
   ]
  },
  {
   "cell_type": "code",
   "execution_count": 105,
   "metadata": {},
   "outputs": [],
   "source": [
    "class ProduceExample(tf.keras.callbacks.Callback): \n",
    "    def __init__(self, dataset) -> None: \n",
    "        self.dataset = dataset.as_numpy_iterator()\n",
    "    \n",
    "    def on_epoch_end(self, epoch, logs=None) -> None:\n",
    "        data = self.dataset.next()\n",
    "        yhat = self.model.predict(data[0])\n",
    "        decoded = tf.keras.backend.ctc_decode(yhat, [75,75], greedy=False)[0][0].numpy()\n",
    "        for x in range(len(yhat)):           \n",
    "            print('Original:', tf.strings.reduce_join(num_to_char(data[1][x])).numpy().decode('utf-8'))\n",
    "            print('Prediction:', tf.strings.reduce_join(num_to_char(decoded[x])).numpy().decode('utf-8'))\n",
    "            print('~'*100)"
   ]
  },
  {
   "cell_type": "code",
   "execution_count": 113,
   "metadata": {},
   "outputs": [],
   "source": [
    "model.compile(optimizer=Adam(learning_rate=0.0001), loss=CTCLoss)"
   ]
  },
  {
   "cell_type": "code",
   "execution_count": 107,
   "metadata": {},
   "outputs": [],
   "source": [
    "checkpoint_callback = ModelCheckpoint(os.path.join('models','checkpoint'), monitor='loss', save_weights_only=True) \n"
   ]
  },
  {
   "cell_type": "code",
   "execution_count": 108,
   "metadata": {},
   "outputs": [],
   "source": [
    "schedule_callback = LearningRateScheduler(scheduler)\n"
   ]
  },
  {
   "cell_type": "code",
   "execution_count": 109,
   "metadata": {},
   "outputs": [],
   "source": [
    "example_callback = ProduceExample(test)\n"
   ]
  },
  {
   "cell_type": "code",
   "execution_count": 110,
   "metadata": {},
   "outputs": [
    {
     "name": "stdout",
     "output_type": "stream",
     "text": [
      "450/450 [==============================] - 28191s 63s/step - loss: 84.6741 - val_loss: 69.3193\n"
     ]
    },
    {
     "data": {
      "text/plain": [
       "<keras.src.callbacks.History at 0x1a5ce0ca290>"
      ]
     },
     "execution_count": 110,
     "metadata": {},
     "output_type": "execute_result"
    }
   ],
   "source": [
    "model.fit(train, validation_data=test, epochs=1)#, callbacks=[checkpoint_callback, schedule_callback, example_callback]\n"
   ]
  },
  {
   "cell_type": "markdown",
   "metadata": {},
   "source": [
    "# 5. Make a Prediction"
   ]
  },
  {
   "cell_type": "code",
   "execution_count": 111,
   "metadata": {},
   "outputs": [
    {
     "name": "stderr",
     "output_type": "stream",
     "text": [
      "Downloading...\n",
      "From (uriginal): https://drive.google.com/uc?id=1vWscXs4Vt0a_1IH1-ct2TCgXAZT-N3_Y\n",
      "From (redirected): https://drive.google.com/uc?id=1vWscXs4Vt0a_1IH1-ct2TCgXAZT-N3_Y&confirm=t&uuid=c43cb043-166a-4c0f-8a42-d53056f968af\n",
      "To: e:\\Self Deep Learning\\Project\\Lip_Reading\\checkpoints.zip\n",
      "100%|██████████| 94.5M/94.5M [00:09<00:00, 10.2MB/s]\n"
     ]
    },
    {
     "data": {
      "text/plain": [
       "['models\\\\checkpoint.index',\n",
       " 'models\\\\__MACOSX/._checkpoint.index',\n",
       " 'models\\\\checkpoint.data-00000-of-00001',\n",
       " 'models\\\\__MACOSX/._checkpoint.data-00000-of-00001',\n",
       " 'models\\\\checkpoint',\n",
       " 'models\\\\__MACOSX/._checkpoint']"
      ]
     },
     "execution_count": 111,
     "metadata": {},
     "output_type": "execute_result"
    }
   ],
   "source": [
    "url = 'https://drive.google.com/uc?id=1vWscXs4Vt0a_1IH1-ct2TCgXAZT-N3_Y'\n",
    "output = 'checkpoints.zip'\n",
    "gdown.download(url, output, quiet=False)\n",
    "gdown.extractall('checkpoints.zip', 'models')"
   ]
  },
  {
   "cell_type": "code",
   "execution_count": null,
   "metadata": {},
   "outputs": [],
   "source": [
    "model.load_weights('models/checkpoint')"
   ]
  },
  {
   "cell_type": "code",
   "execution_count": 115,
   "metadata": {},
   "outputs": [],
   "source": [
    "test_data = test.as_numpy_iterator()"
   ]
  },
  {
   "cell_type": "code",
   "execution_count": 116,
   "metadata": {},
   "outputs": [],
   "source": [
    "sample = test_data.next()"
   ]
  },
  {
   "cell_type": "code",
   "execution_count": 117,
   "metadata": {},
   "outputs": [
    {
     "name": "stdout",
     "output_type": "stream",
     "text": [
      "1/1 [==============================] - 12s 12s/step\n"
     ]
    }
   ],
   "source": [
    "yhat = model.predict(sample[0])"
   ]
  },
  {
   "cell_type": "code",
   "execution_count": 118,
   "metadata": {},
   "outputs": [
    {
     "name": "stdout",
     "output_type": "stream",
     "text": [
      "REAL TEXT\n"
     ]
    },
    {
     "data": {
      "text/plain": [
       "[<tf.Tensor: shape=(), dtype=string, numpy=b'lay green at s two now'>,\n",
       " <tf.Tensor: shape=(), dtype=string, numpy=b'bin red with t six please'>]"
      ]
     },
     "execution_count": 118,
     "metadata": {},
     "output_type": "execute_result"
    }
   ],
   "source": [
    "print('REAL TEXT')\n",
    "[tf.strings.reduce_join([num_to_char(word) for word in sentence]) for sentence in sample[1]]"
   ]
  },
  {
   "cell_type": "code",
   "execution_count": 119,
   "metadata": {},
   "outputs": [],
   "source": [
    "decoded = tf.keras.backend.ctc_decode(yhat, input_length=[75,75], greedy=True)[0][0].numpy()"
   ]
  },
  {
   "cell_type": "code",
   "execution_count": 120,
   "metadata": {},
   "outputs": [
    {
     "name": "stdout",
     "output_type": "stream",
     "text": [
      "PREDICTIONS\n"
     ]
    },
    {
     "data": {
      "text/plain": [
       "[<tf.Tensor: shape=(), dtype=string, numpy=b'la o'>,\n",
       " <tf.Tensor: shape=(), dtype=string, numpy=b'la '>]"
      ]
     },
     "execution_count": 120,
     "metadata": {},
     "output_type": "execute_result"
    }
   ],
   "source": [
    "print('PREDICTIONS')\n",
    "[tf.strings.reduce_join([num_to_char(word) for word in sentence]) for sentence in decoded]"
   ]
  },
  {
   "cell_type": "markdown",
   "metadata": {},
   "source": [
    "# Test on a Video"
   ]
  },
  {
   "cell_type": "code",
   "execution_count": 121,
   "metadata": {},
   "outputs": [],
   "source": [
    "sample = load_data(tf.convert_to_tensor('.\\\\data\\\\s1\\\\bras9a.mpg'))"
   ]
  },
  {
   "cell_type": "code",
   "execution_count": 122,
   "metadata": {},
   "outputs": [
    {
     "name": "stdout",
     "output_type": "stream",
     "text": [
      "REAL TEXT\n"
     ]
    },
    {
     "data": {
      "text/plain": [
       "[<tf.Tensor: shape=(), dtype=string, numpy=b'bin red at s nine again'>]"
      ]
     },
     "execution_count": 122,
     "metadata": {},
     "output_type": "execute_result"
    }
   ],
   "source": [
    "print('REAL TEXT')\n",
    "[tf.strings.reduce_join([num_to_char(word) for word in sentence]) for sentence in [sample[1]]]"
   ]
  },
  {
   "cell_type": "code",
   "execution_count": 123,
   "metadata": {},
   "outputs": [
    {
     "name": "stdout",
     "output_type": "stream",
     "text": [
      "1/1 [==============================] - 3s 3s/step\n"
     ]
    }
   ],
   "source": [
    "yhat = model.predict(tf.expand_dims(sample[0], axis=0))"
   ]
  },
  {
   "cell_type": "code",
   "execution_count": 124,
   "metadata": {},
   "outputs": [],
   "source": [
    "decoded = tf.keras.backend.ctc_decode(yhat, input_length=[75], greedy=True)[0][0].numpy()"
   ]
  },
  {
   "cell_type": "code",
   "execution_count": 125,
   "metadata": {},
   "outputs": [
    {
     "name": "stdout",
     "output_type": "stream",
     "text": [
      "PREDICTIONS\n"
     ]
    },
    {
     "data": {
      "text/plain": [
       "[<tf.Tensor: shape=(), dtype=string, numpy=b'la o'>]"
      ]
     },
     "execution_count": 125,
     "metadata": {},
     "output_type": "execute_result"
    }
   ],
   "source": [
    "print('PREDICTIONS')\n",
    "[tf.strings.reduce_join([num_to_char(word) for word in sentence]) for sentence in decoded]"
   ]
  }
 ],
 "metadata": {
  "kernelspec": {
   "display_name": "Python 3",
   "language": "python",
   "name": "python3"
  },
  "language_info": {
   "codemirror_mode": {
    "name": "ipython",
    "version": 3
   },
   "file_extension": ".py",
   "mimetype": "text/x-python",
   "name": "python",
   "nbconvert_exporter": "python",
   "pygments_lexer": "ipython3",
   "version": "3.11.3"
  }
 },
 "nbformat": 4,
 "nbformat_minor": 2
}
